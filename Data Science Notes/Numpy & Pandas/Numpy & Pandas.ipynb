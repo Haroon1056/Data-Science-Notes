{
 "cells": [
  {
   "cell_type": "markdown",
   "id": "1f04c418-1950-4d0f-a3dc-eb53be3a4ad2",
   "metadata": {},
   "source": [
    "## Numpy and Pandas"
   ]
  },
  {
   "cell_type": "code",
   "execution_count": 1,
   "id": "42aba541-de63-49eb-80c9-3cb78adb41ed",
   "metadata": {},
   "outputs": [],
   "source": [
    "import numpy as np\n",
    "import pandas as pd\n",
    "import statistics as stats"
   ]
  },
  {
   "cell_type": "code",
   "execution_count": 14,
   "id": "25bd05dd-640a-4201-aa0a-04c221555a18",
   "metadata": {},
   "outputs": [
    {
     "name": "stdout",
     "output_type": "stream",
     "text": [
      "[[10 20 30]\n",
      " [40 50 60]]\n",
      "(2, 3)\n",
      "6\n",
      "int64\n",
      "[['10' '20' '30']\n",
      " ['40' '50' '60']]\n",
      "int64\n",
      "2\n"
     ]
    }
   ],
   "source": [
    "a = [[10,20,30],[40,50,60]]\n",
    "arr = np.array(a)\n",
    "print(arr)\n",
    "print(arr.shape)\n",
    "print(arr.size)\n",
    "print(arr.dtype)\n",
    "print(arr.astype(str))\n",
    "print(arr.dtype)\n",
    "print(arr.ndim)\n"
   ]
  },
  {
   "cell_type": "code",
   "execution_count": 22,
   "id": "5efdca84-b1dc-4c67-bebc-1fc289fbdeca",
   "metadata": {},
   "outputs": [
    {
     "name": "stdout",
     "output_type": "stream",
     "text": [
      "[0.33333333 0.5        0.6        4.         1.25       3.        ]\n"
     ]
    }
   ],
   "source": [
    "arr1 = [10,20,30,40,50,60]\n",
    "arr2 = [30,40,50,10,40,20]\n",
    "c = np.divide(arr1,arr2)\n",
    "print(c)"
   ]
  },
  {
   "cell_type": "code",
   "execution_count": 24,
   "id": "8ae40140-51be-468a-a623-01ab1d307b91",
   "metadata": {},
   "outputs": [
    {
     "name": "stdout",
     "output_type": "stream",
     "text": [
      "[  8  64 216 512   8 216 512]\n"
     ]
    }
   ],
   "source": [
    "arr1 = [2,4,6,8,2,6,8]\n",
    "arr2 = [3]\n",
    "c = np.power(arr1,arr2)\n",
    "print(c)"
   ]
  },
  {
   "cell_type": "code",
   "execution_count": 29,
   "id": "56312425-28de-4854-84d2-ea259ad003cc",
   "metadata": {},
   "outputs": [
    {
     "name": "stdout",
     "output_type": "stream",
     "text": [
      "[ 4.47213595  5.47722558  6.32455532  7.          8.          9.\n",
      " 10.04987562 14.2126704 ]\n"
     ]
    }
   ],
   "source": [
    "arr1 =[20,30,40,49,64,81,101,202]\n",
    "print(np.sqrt(arr1))\n"
   ]
  },
  {
   "cell_type": "code",
   "execution_count": 45,
   "id": "2bfb9c89-10cf-481e-8e6c-ae629ba06a77",
   "metadata": {},
   "outputs": [
    {
     "name": "stdout",
     "output_type": "stream",
     "text": [
      "[[10 20]\n",
      " [30 40]\n",
      " [ 2  4]\n",
      " [ 3  6]]\n"
     ]
    }
   ],
   "source": [
    "import numpy as np\n",
    "a = np.array([[10,20],[30,40]])\n",
    "b = np.array([[2,4],[3,6]])\n",
    "print(np.concatenate([a,b]))\n"
   ]
  },
  {
   "cell_type": "code",
   "execution_count": 46,
   "id": "a72e80a1-6ddf-4477-9c1a-c127c2ff8c7a",
   "metadata": {},
   "outputs": [
    {
     "name": "stdout",
     "output_type": "stream",
     "text": [
      "[[10 20  2  4]\n",
      " [30 40  3  6]]\n"
     ]
    }
   ],
   "source": [
    "print(np.hstack([a,b]))"
   ]
  },
  {
   "cell_type": "code",
   "execution_count": 47,
   "id": "02b20525-605f-47c0-89a6-b5051a9c8dfc",
   "metadata": {},
   "outputs": [
    {
     "name": "stdout",
     "output_type": "stream",
     "text": [
      "[[10 20]\n",
      " [30 40]\n",
      " [ 2  4]\n",
      " [ 3  6]]\n"
     ]
    }
   ],
   "source": [
    "print(np.vstack([a,b]))"
   ]
  },
  {
   "cell_type": "code",
   "execution_count": 65,
   "id": "f7679363-4f55-4334-9e95-5a0eb9336896",
   "metadata": {},
   "outputs": [
    {
     "name": "stdout",
     "output_type": "stream",
     "text": [
      "[array([10, 20, 30]), array([40, 50, 60]), array([70, 80, 90])]\n"
     ]
    }
   ],
   "source": [
    "a = np.array([10,20,30,40,50,60,70,80,90])\n",
    "b = (np.array_split(a,3))\n",
    "print(b)"
   ]
  },
  {
   "cell_type": "code",
   "execution_count": 62,
   "id": "3b54ee2e-f9e8-4eed-a9e2-5b918d142ff1",
   "metadata": {},
   "outputs": [
    {
     "name": "stdout",
     "output_type": "stream",
     "text": [
      "[10 20 50 60 70 80 90]\n"
     ]
    }
   ],
   "source": [
    "c = np.delete(b,[2])\n",
    "print(c)"
   ]
  },
  {
   "cell_type": "code",
   "execution_count": 66,
   "id": "aac56806-d1fb-459d-9306-d11fba669947",
   "metadata": {},
   "outputs": [
    {
     "name": "stdout",
     "output_type": "stream",
     "text": [
      "[ 10  20  30  40  90 100]\n"
     ]
    }
   ],
   "source": [
    "a = np.array([[10,20],[30,40]])\n",
    "print(np.append(a,[90,100]))"
   ]
  },
  {
   "cell_type": "code",
   "execution_count": 81,
   "id": "8b9eb466-4a16-4055-a468-4507afa1eaae",
   "metadata": {},
   "outputs": [
    {
     "name": "stdout",
     "output_type": "stream",
     "text": [
      "[5 8 9 6]\n"
     ]
    }
   ],
   "source": [
    "a = np.array([3,5,3,1,8,4,9,6])\n",
    "s = a > 4\n",
    "new = a[s]\n",
    "print(new)"
   ]
  },
  {
   "cell_type": "code",
   "execution_count": 89,
   "id": "bb12e92a-c492-477b-8285-55eb88a15e75",
   "metadata": {},
   "outputs": [
    {
     "name": "stdout",
     "output_type": "stream",
     "text": [
      "39\n",
      "1\n",
      "9\n",
      "4.875\n",
      "[ 3  8 11 12 20 24 33 39]\n",
      "4.5\n"
     ]
    }
   ],
   "source": [
    "print(np.sum(a))\n",
    "print(np.min(a))\n",
    "print(np.max(a))\n",
    "print(np.mean(a))\n",
    "print(np.cumsum(a))\n",
    "print(np.median(a))"
   ]
  },
  {
   "cell_type": "code",
   "execution_count": 108,
   "id": "12bd9091-5b86-4203-9aac-a49d357fd775",
   "metadata": {},
   "outputs": [
    {
     "name": "stdout",
     "output_type": "stream",
     "text": [
      "[100 200 300 400 500] [10 20 23 34 45]\n",
      "[[  100   200   300   400   500]\n",
      " [ 1000  4000  6900 13600 22500]]\n",
      "49500\n"
     ]
    }
   ],
   "source": [
    "a = [100,200,300,400,500]\n",
    "b = [10,20,23,34,45]\n",
    "price = np.array(a)\n",
    "quantity = np.array(b)\n",
    "print(price,quantity)\n",
    "c = np.cumprod([price, quantity], axis = 0)\n",
    "print(c)\n",
    "print(np.sum(c))"
   ]
  },
  {
   "cell_type": "code",
   "execution_count": 122,
   "id": "1d126dd2-2e1b-4a7c-8025-dea222ea6d05",
   "metadata": {},
   "outputs": [
    {
     "name": "stdout",
     "output_type": "stream",
     "text": [
      "108.66666666666667\n",
      "108.0\n",
      "130\n",
      "44.080734012844104\n",
      "1943.111111111111\n"
     ]
    }
   ],
   "source": [
    "baked_food = [20,130,100,130,150,108,70,180,90]\n",
    "a = np.array(baked_food)\n",
    "print(np.mean(a))\n",
    "print(np.median(a))\n",
    "print(stats.mode(a))\n",
    "print(np.std(a))\n",
    "print(np.var(a))"
   ]
  },
  {
   "cell_type": "code",
   "execution_count": 126,
   "id": "a72d452e-7434-44fa-a2dd-cf3a3d87f322",
   "metadata": {},
   "outputs": [
    {
     "name": "stdout",
     "output_type": "stream",
     "text": [
      "[[1.         0.56011203]\n",
      " [0.56011203 1.        ]]\n"
     ]
    }
   ],
   "source": [
    "price = [300,200,400,500,500]\n",
    "sales = [10,20,40,50,20]\n",
    "print(np.corrcoef([price,sales]))"
   ]
  },
  {
   "cell_type": "code",
   "execution_count": 2,
   "id": "f181e45e-ffb0-4fca-8b4a-73a983605828",
   "metadata": {},
   "outputs": [
    {
     "name": "stdout",
     "output_type": "stream",
     "text": [
      "     Name  Age  Salary\n",
      "0  Haroon   23  300000\n",
      "1  Mamoon   17  250000\n",
      "2   Awais   22  400000\n"
     ]
    }
   ],
   "source": [
    "data = {\"Name\": [\"Haroon\",\"Mamoon\",\"Awais\"],\n",
    "       \"Age\": [23, 17, 22],\n",
    "       \"Salary\": [300000,250000,400000]}\n",
    "df = pd.DataFrame(data)\n",
    "print(df)"
   ]
  },
  {
   "cell_type": "code",
   "execution_count": 17,
   "id": "8c1bae54-6560-46c5-8e79-e5817a7d0688",
   "metadata": {},
   "outputs": [
    {
     "name": "stdout",
     "output_type": "stream",
     "text": [
      "    Meaning    Unnamed: 1\n",
      "0  precious         قیمتی\n",
      "1    wisely   سمجھداری سے\n",
      "2   forever  ہمیشہ کے لیے\n",
      "3  treasure         خزانہ\n"
     ]
    }
   ],
   "source": [
    "data = pd.read_excel(\"Word_Meaning.xlsx\")\n",
    "print(data)"
   ]
  },
  {
   "cell_type": "code",
   "execution_count": 20,
   "id": "e082c790-fe28-44d3-a4d8-cbfaa94fbf72",
   "metadata": {},
   "outputs": [
    {
     "name": "stdout",
     "output_type": "stream",
     "text": [
      "   ID First Name   Last Name  Age  Gender                               Email  \\\n",
      "0   1     Marcia     Preston   24  Female              guzmanjoshua@yahoo.com   \n",
      "1   2      Sarah       Owens   64  Female       vaughnjacqueline@chandler.com   \n",
      "2   3     Sydney      Hinton   56  Female  nicholasbradley@butler-hopkins.org   \n",
      "3   4    Richard    Morrison   68   Other               gregory68@hotmail.com   \n",
      "4   5    Stephen   Rodriguez   50   Other               oharrison@hotmail.com   \n",
      "5   6       Joel  Hutchinson   19  Female                  bmahoney@yahoo.com   \n",
      "6   7      Scott      Fisher   33   Other                   ehill@hotmail.com   \n",
      "7   8       Jose     Johnson   46    Male               michael74@barrett.com   \n",
      "8   9      Maria    Campbell   38  Female             josephcamacho@yahoo.com   \n",
      "9  10      Derek   Gillespie   19  Female           patrickwillis@hotmail.com   \n",
      "\n",
      "            Phone Number                                            Address  \n",
      "0             8691033648        16709 Cooper Stravenue, Perrystad, SC 46969  \n",
      "1  001-568-489-5591x5014         9961 Flores Mission, Lindseyside, DC 28074  \n",
      "2     970-880-5919x10040   064 Holloway Track, North Jenniferview, NE 15232  \n",
      "3    +1-648-459-3473x836    03372 Carol Ranch Apt. 165, Bryantton, TN 14883  \n",
      "4     798.432.3882x75975                   Unit 3189 Box 8230, DPO AP 29151  \n",
      "5   001-384-060-5773x961  56288 Laura Extensions Apt. 685, Lake Ashley, ...  \n",
      "6   +1-309-131-9204x3924  8717 Baldwin Land Suite 943, East Whitney, WI ...  \n",
      "7           580.994.2811             86377 Erin Courts, New Linda, ID 94402  \n",
      "8   +1-041-211-9344x9178               551 Jasmine Trace, Amyberg, PA 76053  \n",
      "9             9529727934  411 Deanna Mountains Apt. 576, Byrdfort, NM 74342  \n",
      "     ID First Name   Last Name  Age  Gender                           Email  \\\n",
      "90   91      Aaron   Gutierrez   36  Female               julie62@davis.com   \n",
      "91   92      Bryan     Whitney   54    Male       monicamartinez@rogers.net   \n",
      "92   93     Trevor  Fitzgerald   66    Male     murphyfernando@mitchell.com   \n",
      "93   94    Melissa       Smith   68   Other               fcarter@gmail.com   \n",
      "94   95      Linda         Lee   60   Other           johnvasquez@perry.com   \n",
      "95   96      Megan     Johnson   70   Other             floyddaniel@lee.com   \n",
      "96   97      James       Jones   41  Female         reidbrandon@roberts.com   \n",
      "97   98      Karen       Lewis   70   Other            smithrobin@yahoo.com   \n",
      "98   99     Pamela        Reed   39   Other             owenerin@harris.com   \n",
      "99  100  Elizabeth      Harris   28   Other  suttonamanda@banks-osborne.com   \n",
      "\n",
      "          Phone Number                                            Address  \n",
      "90       (129)069-6562                   Unit 0366 Box 8088, DPO AP 74957  \n",
      "91          1407077303          32609 Parrish Fork, Mauricebury, AL 75827  \n",
      "92   793.984.3100x6858           4982 Fisher Pines, Caitlinfurt, OK 28652  \n",
      "93        458.583.2781       98256 Key Lakes, South Thomasmouth, SD 15192  \n",
      "94  (799)388-6774x0471       2313 Stacey Prairie, Johnathanbury, ND 13494  \n",
      "95   (337)506-5538x237                2417 Blake Locks, Levyton, OR 21956  \n",
      "96  507.143.3849x12859  8611 Rachel Vista Apt. 794, South Jenniferfort...  \n",
      "97          9383639641        3989 Boyle Oval, Port Melissabury, CA 08920  \n",
      "98    001-377-421-6982            01794 Wiley Ports, Port Kayla, IN 90586  \n",
      "99        404.981.0885              287 Kevin Oval, Michaelport, WA 92881  \n",
      "<class 'pandas.core.frame.DataFrame'>\n",
      "RangeIndex: 100 entries, 0 to 99\n",
      "Data columns (total 8 columns):\n",
      " #   Column        Non-Null Count  Dtype \n",
      "---  ------        --------------  ----- \n",
      " 0   ID            100 non-null    int64 \n",
      " 1   First Name    100 non-null    object\n",
      " 2   Last Name     100 non-null    object\n",
      " 3   Age           100 non-null    int64 \n",
      " 4   Gender        100 non-null    object\n",
      " 5   Email         100 non-null    object\n",
      " 6   Phone Number  100 non-null    object\n",
      " 7   Address       100 non-null    object\n",
      "dtypes: int64(2), object(6)\n",
      "memory usage: 6.4+ KB\n",
      "None\n"
     ]
    }
   ],
   "source": [
    "data = pd.read_csv(\"personal_information_data.csv\")\n",
    "print(data.head(10))\n",
    "print(data.tail(10))\n",
    "print(data.info())"
   ]
  },
  {
   "cell_type": "code",
   "execution_count": 3,
   "id": "34851b41-0509-4e9b-af11-c0390a2b63ff",
   "metadata": {},
   "outputs": [
    {
     "name": "stdout",
     "output_type": "stream",
     "text": [
      "       Name  Age  Gender    Salary   Department            Joining Date  \\\n",
      "0      John   22  Female  111857.0        Sales 2021-04-21 17:00:53.856   \n",
      "1      Jane   25    Male   82489.0        Sales 2021-05-28 17:00:53.856   \n",
      "2   Michael   25  Female  114665.0        Sales 2019-12-28 17:00:53.856   \n",
      "3     Emily   31    Male   71504.0    Marketing 2021-03-05 17:00:53.856   \n",
      "4     Laura   41    Male   79866.0    Marketing 2021-12-27 17:00:53.856   \n",
      "5     David   43  Female  114212.0  Engineering 2022-06-08 17:00:53.856   \n",
      "6     Chris   58    Male   41723.0    Marketing 2022-08-19 17:00:53.856   \n",
      "7     Sarah   45    Male   73890.0           HR 2022-02-10 17:00:53.856   \n",
      "8    Daniel   28  Female   47591.0    Marketing 2023-07-31 17:00:53.856   \n",
      "9   Jessica   46    Male   88146.0      Finance 2023-01-25 17:00:53.856   \n",
      "10     Paul   46    Male   89300.0        Sales 2020-12-17 17:00:53.856   \n",
      "11    Megan   34  Female   81543.0  Engineering 2020-03-16 17:00:53.856   \n",
      "12      Tom   23    Male  101557.0      Finance 2024-02-20 17:00:53.856   \n",
      "13   Hannah   45    Male   81543.0    Marketing 2019-12-13 17:00:53.856   \n",
      "14   Nathan   46  Female   33560.0      Finance 2020-07-27 17:00:53.856   \n",
      "15    Linda   39  Female   91713.0      Finance 2021-07-15 17:00:53.856   \n",
      "16    Jacob   59  Female   81543.0      Finance 2021-04-04 17:00:53.856   \n",
      "17    Karen   47  Female   76522.0    Marketing 2020-02-20 17:00:53.856   \n",
      "18   Robert   35    Male  116904.0      Finance 2023-11-25 17:00:53.856   \n",
      "19   Angela   30  Female   50737.0      Finance 2019-11-28 17:00:53.856   \n",
      "\n",
      "    Performance Score  \n",
      "0                86.0  \n",
      "1                84.0  \n",
      "2                98.0  \n",
      "3                79.0  \n",
      "4                53.0  \n",
      "5                 NaN  \n",
      "6                 NaN  \n",
      "7                63.0  \n",
      "8                98.0  \n",
      "9                89.0  \n",
      "10                NaN  \n",
      "11               59.0  \n",
      "12                NaN  \n",
      "13               60.0  \n",
      "14               93.0  \n",
      "15                NaN  \n",
      "16                NaN  \n",
      "17               84.0  \n",
      "18               85.0  \n",
      "19               80.0  \n"
     ]
    },
    {
     "name": "stderr",
     "output_type": "stream",
     "text": [
      "C:\\Users\\Z\\AppData\\Local\\Temp\\ipykernel_7336\\3159140384.py:4: FutureWarning: Series.fillna with 'method' is deprecated and will raise in a future version. Use obj.ffill() or obj.bfill() instead.\n",
      "  data[\"Gender\"] = data[\"Gender\"].fillna(method = \"ffill\")\n"
     ]
    }
   ],
   "source": [
    "data = pd.read_excel(\"practice_data.xlsx\")\n",
    "# print(data)\n",
    "data[\"Salary\"] = data[\"Salary\"].replace(np.nan, 81543)\n",
    "data[\"Gender\"] = data[\"Gender\"].fillna(method = \"ffill\")\n",
    "print(data)"
   ]
  },
  {
   "cell_type": "code",
   "execution_count": 15,
   "id": "a530afd8-e561-4437-8103-a1deb3e3ff0d",
   "metadata": {},
   "outputs": [
    {
     "name": "stdout",
     "output_type": "stream",
     "text": [
      "       Name  Age  Gender    Salary   Department            Joining Date  \\\n",
      "0      John   22  Female  111857.0        Sales 2021-04-21 17:00:53.856   \n",
      "1      Jane   25    Male   82489.0        Sales 2021-05-28 17:00:53.856   \n",
      "2   Michael   25  Female  114665.0        Sales 2019-12-28 17:00:53.856   \n",
      "3     Emily   31    Male   71504.0    Marketing 2021-03-05 17:00:53.856   \n",
      "4     Laura   41    Male   79866.0    Marketing 2021-12-27 17:00:53.856   \n",
      "5     David   43  Female  114212.0  Engineering 2022-06-08 17:00:53.856   \n",
      "6     Chris   58    Male   41723.0    Marketing 2022-08-19 17:00:53.856   \n",
      "7     Sarah   45    Male   73890.0           HR 2022-02-10 17:00:53.856   \n",
      "8    Daniel   28  Female   47591.0    Marketing 2023-07-31 17:00:53.856   \n",
      "9   Jessica   46    Male   88146.0      Finance 2023-01-25 17:00:53.856   \n",
      "10     Paul   46    Male   89300.0        Sales 2020-12-17 17:00:53.856   \n",
      "11    Megan   34  Female   81543.0  Engineering 2020-03-16 17:00:53.856   \n",
      "12      Tom   23    Male  101557.0      Finance 2024-02-20 17:00:53.856   \n",
      "13   Hannah   45    Male   81543.0    Marketing 2019-12-13 17:00:53.856   \n",
      "14   Nathan   46  Female   33560.0      Finance 2020-07-27 17:00:53.856   \n",
      "15    Linda   39  Female   91713.0      Finance 2021-07-15 17:00:53.856   \n",
      "16    Jacob   59  Female   81543.0      Finance 2021-04-04 17:00:53.856   \n",
      "17    Karen   47  Female   76522.0    Marketing 2020-02-20 17:00:53.856   \n",
      "18   Robert   35    Male  116904.0      Finance 2023-11-25 17:00:53.856   \n",
      "19   Angela   30  Female   50737.0      Finance 2019-11-28 17:00:53.856   \n",
      "\n",
      "    Performance Score       UnderAge       Full Name  \n",
      "0                86.0  Not Under Age     John Female  \n",
      "1                84.0  Not Under Age       Jane Male  \n",
      "2                98.0  Not Under Age  Michael Female  \n",
      "3                79.0      Under Age      Emily Male  \n",
      "4                53.0      Under Age      Laura Male  \n",
      "5                 NaN      Under Age    David Female  \n",
      "6                 NaN      Under Age      Chris Male  \n",
      "7                63.0      Under Age      Sarah Male  \n",
      "8                98.0  Not Under Age   Daniel Female  \n",
      "9                89.0      Under Age    Jessica Male  \n",
      "10                NaN      Under Age       Paul Male  \n",
      "11               59.0      Under Age    Megan Female  \n",
      "12                NaN  Not Under Age        Tom Male  \n",
      "13               60.0      Under Age     Hannah Male  \n",
      "14               93.0      Under Age   Nathan Female  \n",
      "15                NaN      Under Age    Linda Female  \n",
      "16                NaN      Under Age    Jacob Female  \n",
      "17               84.0      Under Age    Karen Female  \n",
      "18               85.0      Under Age     Robert Male  \n",
      "19               80.0      Under Age   Angela Female  \n"
     ]
    }
   ],
   "source": [
    "data.loc[(data[\"Age\"] >= 30), \"UnderAge\"] = \"Under Age\"\n",
    "data.loc[(data[\"Age\"] < 30), \"UnderAge\"] = \"Not Under Age\"\n",
    "print(data)"
   ]
  },
  {
   "cell_type": "code",
   "execution_count": 12,
   "id": "dc16a5d9-b66d-4fda-b841-fd5a7eaeba43",
   "metadata": {},
   "outputs": [
    {
     "name": "stdout",
     "output_type": "stream",
     "text": [
      "       Name  Age  Gender    Salary   Department            Joining Date  \\\n",
      "0      John   22  Female  111857.0        Sales 2021-04-21 17:00:53.856   \n",
      "1      Jane   25    Male   82489.0        Sales 2021-05-28 17:00:53.856   \n",
      "2   Michael   25  Female  114665.0        Sales 2019-12-28 17:00:53.856   \n",
      "3     Emily   31    Male   71504.0    Marketing 2021-03-05 17:00:53.856   \n",
      "4     Laura   41    Male   79866.0    Marketing 2021-12-27 17:00:53.856   \n",
      "5     David   43  Female  114212.0  Engineering 2022-06-08 17:00:53.856   \n",
      "6     Chris   58    Male   41723.0    Marketing 2022-08-19 17:00:53.856   \n",
      "7     Sarah   45    Male   73890.0           HR 2022-02-10 17:00:53.856   \n",
      "8    Daniel   28  Female   47591.0    Marketing 2023-07-31 17:00:53.856   \n",
      "9   Jessica   46    Male   88146.0      Finance 2023-01-25 17:00:53.856   \n",
      "10     Paul   46    Male   89300.0        Sales 2020-12-17 17:00:53.856   \n",
      "11    Megan   34  Female   81543.0  Engineering 2020-03-16 17:00:53.856   \n",
      "12      Tom   23    Male  101557.0      Finance 2024-02-20 17:00:53.856   \n",
      "13   Hannah   45    Male   81543.0    Marketing 2019-12-13 17:00:53.856   \n",
      "14   Nathan   46  Female   33560.0      Finance 2020-07-27 17:00:53.856   \n",
      "15    Linda   39  Female   91713.0      Finance 2021-07-15 17:00:53.856   \n",
      "16    Jacob   59  Female   81543.0      Finance 2021-04-04 17:00:53.856   \n",
      "17    Karen   47  Female   76522.0    Marketing 2020-02-20 17:00:53.856   \n",
      "18   Robert   35    Male  116904.0      Finance 2023-11-25 17:00:53.856   \n",
      "19   Angela   30  Female   50737.0      Finance 2019-11-28 17:00:53.856   \n",
      "\n",
      "    Performance Score       UnderAge       Full Name  \n",
      "0                86.0  Not Under Age     John Female  \n",
      "1                84.0  Not Under Age       Jane Male  \n",
      "2                98.0  Not Under Age  Michael Female  \n",
      "3                79.0      Under Age      Emily Male  \n",
      "4                53.0      Under Age      Laura Male  \n",
      "5                 NaN      Under Age    David Female  \n",
      "6                 NaN      Under Age      Chris Male  \n",
      "7                63.0      Under Age      Sarah Male  \n",
      "8                98.0  Not Under Age   Daniel Female  \n",
      "9                89.0      Under Age    Jessica Male  \n",
      "10                NaN      Under Age       Paul Male  \n",
      "11               59.0      Under Age    Megan Female  \n",
      "12                NaN  Not Under Age        Tom Male  \n",
      "13               60.0      Under Age     Hannah Male  \n",
      "14               93.0      Under Age   Nathan Female  \n",
      "15                NaN      Under Age    Linda Female  \n",
      "16                NaN      Under Age    Jacob Female  \n",
      "17               84.0      Under Age    Karen Female  \n",
      "18               85.0      Under Age     Robert Male  \n",
      "19               80.0      Under Age   Angela Female  \n"
     ]
    }
   ],
   "source": [
    "data[\"Full Name\"] = data[\"Name\"].str.capitalize() + \" \" + data[\"Gender\"]\n",
    "print(data)"
   ]
  },
  {
   "cell_type": "code",
   "execution_count": 32,
   "id": "0b780d8c-553d-413d-9034-d6e372cb24ca",
   "metadata": {},
   "outputs": [
    {
     "name": "stdout",
     "output_type": "stream",
     "text": [
      "                      Salary\n",
      "Department  Gender          \n",
      "Engineering Female  114212.0\n",
      "Finance     Female   91713.0\n",
      "            Male    116904.0\n",
      "HR          Male     73890.0\n",
      "Marketing   Female   76522.0\n",
      "            Male     81543.0\n",
      "Sales       Female  114665.0\n",
      "            Male     89300.0\n"
     ]
    }
   ],
   "source": [
    "data[\"Bouns\"] = data[\"Salary\"]/100*20\n",
    "gb = data.groupby([\"Department\", \"Gender\"]).agg({\"Salary\":\"max\"})\n",
    "print(gb)"
   ]
  },
  {
   "cell_type": "code",
   "execution_count": 20,
   "id": "af8c2c02-5d22-40f4-b418-35aeca3dee95",
   "metadata": {},
   "outputs": [
    {
     "name": "stdout",
     "output_type": "stream",
     "text": [
      "     Months short_months\n",
      "0   january          jan\n",
      "1  February          Feb\n",
      "2     March          Mar\n",
      "3     April          Apr\n"
     ]
    }
   ],
   "source": [
    "df = {\"Months\": [\"january\",\"February\",\"March\",\"April\"]}\n",
    "a = pd.DataFrame(df)\n",
    "\n",
    "def extract(value):\n",
    "    return value[0:3]\n",
    "\n",
    "a[\"short_months\"] = a[\"Months\"].map(extract)\n",
    "print(a)"
   ]
  },
  {
   "cell_type": "code",
   "execution_count": 41,
   "id": "36139565-8482-4775-bc34-4ced0dc77e20",
   "metadata": {},
   "outputs": [
    {
     "name": "stdout",
     "output_type": "stream",
     "text": [
      "   EID      Name  Age\n",
      "0  E01    Haroon   23\n",
      "1  E02      Asad   26\n",
      "2  E08  Abdullah   32\n",
      "3  E04    Mamoon   54\n",
      "4  E09    Muneeb   34\n",
      "5  E06  Hussnain   47\n",
      "6  E07     Awais   34\n",
      "   EID  Salary\n",
      "0  E01   45000\n",
      "1  E02   36000\n",
      "2  E03   28000\n",
      "3  E04   40000\n",
      "4  E05   39000\n",
      "5  E06   42000\n",
      "6  E07   50000\n"
     ]
    }
   ],
   "source": [
    "data1 = {\"EID\": [\"E01\", \"E02\", \"E08\", \"E04\", \"E09\", \"E06\",\"E07\"],\n",
    "        \"Name\": [\"Haroon\", \"Asad\", \"Abdullah\", \"Mamoon\",\"Muneeb\",\"Hussnain\",\"Awais\"],\n",
    "        \"Age\": [23,26,32,54,34,47,34]}\n",
    "data2 = {\"EID\": [\"E01\", \"E02\", \"E03\", \"E04\", \"E05\", \"E06\",\"E07\"],\n",
    "        \"Salary\": [45000,36000,28000,40000,39000,42000,50000]}\n",
    "df1 = pd.DataFrame(data1)\n",
    "df2 = pd.DataFrame(data2)\n",
    "print(df1)\n",
    "print(df2)"
   ]
  },
  {
   "cell_type": "code",
   "execution_count": 49,
   "id": "9c3861b6-50bf-43da-b050-c1e96498a1bc",
   "metadata": {},
   "outputs": [
    {
     "name": "stdout",
     "output_type": "stream",
     "text": [
      "   EID      Name   Age  Salary\n",
      "0  E01    Haroon  23.0   45000\n",
      "1  E02      Asad  26.0   36000\n",
      "2  E03       NaN   NaN   28000\n",
      "3  E04    Mamoon  54.0   40000\n",
      "4  E05       NaN   NaN   39000\n",
      "5  E06  Hussnain  47.0   42000\n",
      "6  E07     Awais  34.0   50000\n"
     ]
    }
   ],
   "source": [
    "print(pd.merge(df1,df2, on = \"EID\", how = \"right\"))"
   ]
  },
  {
   "cell_type": "code",
   "execution_count": 6,
   "id": "a954d9ee-cd3d-42c9-af90-effc88da5b99",
   "metadata": {},
   "outputs": [
    {
     "name": "stdout",
     "output_type": "stream",
     "text": [
      "   EID      Name  Age\n",
      "0  E01    Haroon   23\n",
      "1  E02      Asad   26\n",
      "2  E08  Abdullah   32\n",
      "3  E04    Mamoon   54\n",
      "4  E09    Muneeb   34\n",
      "5  E06  Hussnain   47\n",
      "6  E07     Awais   34\n",
      "   EID    Name  Age\n",
      "0  E08  Mubeen   33\n",
      "1  E09   Ahmad   46\n",
      "2  E10  Mursad   42\n",
      "3  E11  Hanzla   34\n",
      "4  E12   Farid   44\n",
      "5  E13  Farhan   37\n",
      "6  E14    Umar   23\n"
     ]
    }
   ],
   "source": [
    "data1 = {\"EID\": [\"E01\", \"E02\", \"E08\", \"E04\", \"E09\", \"E06\",\"E07\"],\n",
    "        \"Name\": [\"Haroon\", \"Asad\", \"Abdullah\", \"Mamoon\",\"Muneeb\",\"Hussnain\",\"Awais\"],\n",
    "        \"Age\": [23,26,32,54,34,47,34]}\n",
    "data2 = {\"EID\": [\"E08\", \"E09\", \"E10\", \"E11\", \"E12\", \"E13\",\"E14\"],\n",
    "        \"Name\": [\"Mubeen\", \"Ahmad\", \"Mursad\", \"Hanzla\",\"Farid\",\"Farhan\",\"Umar\"],\n",
    "        \"Age\": [33,46,42,34,44,37,23]}\n",
    "df1 = pd.DataFrame(data1)\n",
    "df2 = pd.DataFrame(data2)\n",
    "print(df1)\n",
    "print(df2)"
   ]
  },
  {
   "cell_type": "code",
   "execution_count": 53,
   "id": "e423929b-0d34-46bf-9140-abfbcee743ce",
   "metadata": {},
   "outputs": [
    {
     "name": "stdout",
     "output_type": "stream",
     "text": [
      "   EID      Name  Age\n",
      "0  E01    Haroon   23\n",
      "1  E02      Asad   26\n",
      "2  E08  Abdullah   32\n",
      "3  E04    Mamoon   54\n",
      "4  E09    Muneeb   34\n",
      "5  E06  Hussnain   47\n",
      "6  E07     Awais   34\n",
      "0  E08    Mubeen   33\n",
      "1  E09     Ahmad   46\n",
      "2  E10    Mursad   42\n",
      "3  E11    Hanzla   34\n",
      "4  E12     Farid   44\n",
      "5  E13    Farhan   37\n",
      "6  E14      Umar   23\n"
     ]
    }
   ],
   "source": [
    "print(pd.concat([df1,df2]))"
   ]
  },
  {
   "cell_type": "code",
   "execution_count": 66,
   "id": "7e62f80c-2c42-4968-a8a9-5c8cd2ad30e2",
   "metadata": {},
   "outputs": [
    {
     "name": "stdout",
     "output_type": "stream",
     "text": [
      "   fruits  prices  quantity\n",
      "0   Mango     200        50\n",
      "1   Apple     250        20\n",
      "2  Banana     100        30\n",
      "3  Papaya     150        15\n",
      "   fruits  prices  quantity\n",
      "0   Mango     150        40\n",
      "1   Apple     200        20\n",
      "2  Banana     120        50\n",
      "3  Papaya     100        20\n"
     ]
    }
   ],
   "source": [
    "data1 = {\"fruits\": [\"Mango\", \"Apple\", \"Banana\", \"Papaya\"],\n",
    "        \"prices\": [200, 250, 100, 150],\n",
    "        \"quantity\": [50, 20, 30, 15]}\n",
    "df1 = pd.DataFrame(data1)\n",
    "print(df1)\n",
    "df2 = df1.copy()\n",
    "df2.loc[0, \"prices\"] = 150\n",
    "df2.loc[1, \"prices\"] = 200\n",
    "df2.loc[2, \"prices\"] = 120\n",
    "df2.loc[3, \"prices\"] = 100\n",
    "df2.loc[0, \"quantity\"] = 40\n",
    "df2.loc[1, \"quantity\"] = 20\n",
    "df2.loc[2, \"quantity\"] = 50\n",
    "df2.loc[3, \"quantity\"] = 20\n",
    "print(df2)"
   ]
  },
  {
   "cell_type": "code",
   "execution_count": 70,
   "id": "cd9c22fc-e76e-40c0-b95a-ba5f20c746c8",
   "metadata": {},
   "outputs": [
    {
     "name": "stdout",
     "output_type": "stream",
     "text": [
      "  fruits       prices       quantity      \n",
      "    self other   self other     self other\n",
      "0    NaN   NaN    200   150     50.0  40.0\n",
      "1    NaN   NaN    250   200      NaN   NaN\n",
      "2    NaN   NaN    100   120     30.0  50.0\n",
      "3    NaN   NaN    150   100     15.0  20.0\n"
     ]
    }
   ],
   "source": [
    "com = df1.compare(df2, keep_shape = True)\n",
    "print(com)"
   ]
  },
  {
   "cell_type": "code",
   "execution_count": 2,
   "id": "42a373e9-4d83-4d2c-81a9-881d8a6b686d",
   "metadata": {},
   "outputs": [
    {
     "name": "stdout",
     "output_type": "stream",
     "text": [
      "  keys   Names Houses Grades\n",
      "0   k1  Haroon  Green    3rd\n",
      "1   k2  Sajjad    Red    8th\n",
      "2   k1     Ali   Blue    9th\n",
      "3   k2   Amjad  Black    5th\n",
      "      Houses                      Grades                    \n",
      "Names    Ali  Amjad Haroon Sajjad    Ali Amjad Haroon Sajjad\n",
      "keys                                                        \n",
      "k1      Blue    NaN  Green    NaN    9th   NaN    3rd    NaN\n",
      "k2       NaN  Black    NaN    Red    NaN   5th    NaN    8th\n",
      "    Names Houses&Grades values\n",
      "0  Haroon        Houses  Green\n",
      "1  Sajjad        Houses    Red\n",
      "2     Ali        Houses   Blue\n",
      "3   Amjad        Houses  Black\n",
      "4  Haroon        Grades    3rd\n",
      "5  Sajjad        Grades    8th\n",
      "6     Ali        Grades    9th\n",
      "7   Amjad        Grades    5th\n"
     ]
    }
   ],
   "source": [
    "dic = {\"keys\": [\"k1\", \"k2\", \"k1\", \"k2\"],\n",
    "      \"Names\": [\"Haroon\", \"Sajjad\", \"Ali\", \"Amjad\"],\n",
    "      \"Houses\": [\"Green\", \"Red\", \"Blue\", \"Black\"],\n",
    "      \"Grades\": [\"3rd\",\"8th\", \"9th\", \"5th\"]}\n",
    "df = pd.DataFrame(dic)\n",
    "print(df)\n",
    "print(df.pivot(index=\"keys\",columns=\"Names\",values=[\"Houses\",\"Grades\"]))\n",
    "print(pd.melt(df, id_vars=[\"Names\"],value_vars=[\"Houses\",\"Grades\"],var_name=\"Houses&Grades\",value_name=\"values\"))"
   ]
  },
  {
   "cell_type": "code",
   "execution_count": null,
   "id": "172c1986-bbc9-48e5-b0d2-752ed674b0bc",
   "metadata": {},
   "outputs": [],
   "source": []
  },
  {
   "cell_type": "code",
   "execution_count": null,
   "id": "5ef2a312-0cca-4783-a5b5-dc592c20b1e8",
   "metadata": {},
   "outputs": [],
   "source": []
  }
 ],
 "metadata": {
  "kernelspec": {
   "display_name": "Python 3 (ipykernel)",
   "language": "python",
   "name": "python3"
  },
  "language_info": {
   "codemirror_mode": {
    "name": "ipython",
    "version": 3
   },
   "file_extension": ".py",
   "mimetype": "text/x-python",
   "name": "python",
   "nbconvert_exporter": "python",
   "pygments_lexer": "ipython3",
   "version": "3.12.4"
  }
 },
 "nbformat": 4,
 "nbformat_minor": 5
}
